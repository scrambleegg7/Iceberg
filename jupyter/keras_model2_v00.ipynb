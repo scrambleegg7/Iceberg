{
 "cells": [
  {
   "cell_type": "code",
   "execution_count": 1,
   "metadata": {
    "collapsed": true
   },
   "outputs": [],
   "source": [
    "import numpy as np\n",
    "import pandas as pd\n",
    "import matplotlib.pyplot as plt\n",
    "\n",
    "%matplotlib inline"
   ]
  },
  {
   "cell_type": "code",
   "execution_count": 99,
   "metadata": {
    "collapsed": false
   },
   "outputs": [],
   "source": [
    "from keras.models import Sequential\n",
    "from keras.layers import Dense, Activation\n",
    "\n",
    "from sklearn.model_selection import train_test_split\n"
   ]
  },
  {
   "cell_type": "code",
   "execution_count": 3,
   "metadata": {
    "collapsed": false
   },
   "outputs": [
    {
     "name": "stdout",
     "output_type": "stream",
     "text": [
      "Untitled.ipynb         \u001b[34mdata\u001b[m\u001b[m                   keras_model1_v00.ipynb\r\n"
     ]
    }
   ],
   "source": [
    "!ls"
   ]
  },
  {
   "cell_type": "code",
   "execution_count": 4,
   "metadata": {
    "collapsed": false
   },
   "outputs": [
    {
     "name": "stdout",
     "output_type": "stream",
     "text": [
      "sample_submission.csv test.json             train.json\r\n"
     ]
    }
   ],
   "source": [
    "!ls data/processed"
   ]
  },
  {
   "cell_type": "code",
   "execution_count": 5,
   "metadata": {
    "collapsed": false
   },
   "outputs": [
    {
     "name": "stdout",
     "output_type": "stream",
     "text": [
      "load data...\n",
      "done!\n"
     ]
    }
   ],
   "source": [
    "print(\"load data...\")\n",
    "train = pd.read_json(\"data/processed/train.json\")\n",
    "test = pd.read_json(\"data/processed/test.json\")\n",
    "train.inc_angle = train.inc_angle.replace('na', 0)\n",
    "train.inc_angle = train.inc_angle.astype(float).fillna(0.0)\n",
    "print(\"done!\")"
   ]
  },
  {
   "cell_type": "code",
   "execution_count": 10,
   "metadata": {
    "collapsed": false
   },
   "outputs": [],
   "source": [
    "x_band1 = np.array([np.array(band).astype(np.float32).reshape(75, 75) for band in train[\"band_1\"]])\n",
    "x_band2 = np.array([np.array(band).astype(np.float32).reshape(75, 75) for band in train[\"band_2\"]])\n",
    "X_train = np.concatenate([x_band1[:, :, :, np.newaxis]\n",
    "                          , x_band2[:, :, :, np.newaxis]\n",
    "                         , ((x_band1+x_band1)/2)[:, :, :, np.newaxis]], axis=-1)\n",
    "X_angle_train = np.array(train.inc_angle)\n",
    "y_train = np.array(train[\"is_iceberg\"])\n",
    "\n",
    "\n",
    "\n"
   ]
  },
  {
   "cell_type": "code",
   "execution_count": 100,
   "metadata": {
    "collapsed": false
   },
   "outputs": [],
   "source": [
    "X_train, X_valid, y_train, y_valid = train_test_split(X_train, y_train, test_size=0.33, random_state=42)"
   ]
  },
  {
   "cell_type": "code",
   "execution_count": 101,
   "metadata": {
    "collapsed": false
   },
   "outputs": [
    {
     "data": {
      "text/plain": [
       "((1074, 75, 75, 3), (530, 75, 75, 3), (1074,), (530,))"
      ]
     },
     "execution_count": 101,
     "metadata": {},
     "output_type": "execute_result"
    }
   ],
   "source": [
    "X_train.shape, X_valid.shape, y_train.shape, y_valid.shape"
   ]
  },
  {
   "cell_type": "code",
   "execution_count": 31,
   "metadata": {
    "collapsed": false
   },
   "outputs": [
    {
     "data": {
      "text/plain": [
       "0    851\n",
       "1    753\n",
       "Name: is_iceberg, dtype: int64"
      ]
     },
     "execution_count": 31,
     "metadata": {},
     "output_type": "execute_result"
    }
   ],
   "source": [
    "train[\"is_iceberg\"].value_counts()"
   ]
  },
  {
   "cell_type": "code",
   "execution_count": null,
   "metadata": {
    "collapsed": true
   },
   "outputs": [],
   "source": []
  },
  {
   "cell_type": "code",
   "execution_count": 33,
   "metadata": {
    "collapsed": true
   },
   "outputs": [],
   "source": [
    "model = Sequential()\n",
    "model.add(Dense(32, activation='relu', input_dim=5625))\n",
    "model.add(Dense(1, activation='sigmoid'))\n",
    "model.compile(optimizer='rmsprop',\n",
    "              loss='binary_crossentropy',\n",
    "              metrics=['accuracy'])"
   ]
  },
  {
   "cell_type": "code",
   "execution_count": 37,
   "metadata": {
    "collapsed": false
   },
   "outputs": [
    {
     "name": "stdout",
     "output_type": "stream",
     "text": [
      "Epoch 1/10\n",
      "1604/1604 [==============================] - 0s - loss: 8.4582 - acc: 0.4695     \n",
      "Epoch 2/10\n",
      "1604/1604 [==============================] - 0s - loss: 8.4582 - acc: 0.4695     \n",
      "Epoch 3/10\n",
      "1604/1604 [==============================] - 0s - loss: 8.4582 - acc: 0.4695     \n",
      "Epoch 4/10\n",
      "1604/1604 [==============================] - 0s - loss: 8.4582 - acc: 0.4695     \n",
      "Epoch 5/10\n",
      "1604/1604 [==============================] - 0s - loss: 8.4582 - acc: 0.4695     \n",
      "Epoch 6/10\n",
      "1604/1604 [==============================] - 0s - loss: 8.4582 - acc: 0.4695     \n",
      "Epoch 7/10\n",
      "1604/1604 [==============================] - 0s - loss: 8.4582 - acc: 0.4695     \n",
      "Epoch 8/10\n",
      "1604/1604 [==============================] - 0s - loss: 8.4582 - acc: 0.4695     \n",
      "Epoch 9/10\n",
      "1604/1604 [==============================] - 0s - loss: 8.4582 - acc: 0.4695     \n",
      "Epoch 10/10\n",
      "1604/1604 [==============================] - 0s - loss: 8.4582 - acc: 0.4695     \n"
     ]
    },
    {
     "data": {
      "text/plain": [
       "<keras.callbacks.History at 0x124c682d0>"
      ]
     },
     "execution_count": 37,
     "metadata": {},
     "output_type": "execute_result"
    }
   ],
   "source": [
    "data = np.random.random((1000, 5625))\n",
    "labels = np.random.randint(2, size=(1604, 1))\n",
    "\n",
    "# Train the model, iterating on the data in batches of 32 samples\n",
    "model.fit(x_band1.reshape( 1604,5625  ), y_train, epochs=10, batch_size=32)"
   ]
  },
  {
   "cell_type": "code",
   "execution_count": 95,
   "metadata": {
    "collapsed": true
   },
   "outputs": [],
   "source": [
    "from keras.layers import Conv2D, MaxPooling2D, Dense, Dropout, Input, Flatten, Activation, ELU, Add\n",
    "from keras.layers import GlobalMaxPooling2D\n",
    "from keras.layers.normalization import BatchNormalization\n",
    "from keras.layers.merge import Concatenate\n",
    "from keras.models import Model\n",
    "from keras.optimizers import Adam\n",
    "from keras.callbacks import ModelCheckpoint, Callback, EarlyStopping\n",
    "\n",
    "from keras.preprocessing.image import ImageDataGenerator\n"
   ]
  },
  {
   "cell_type": "code",
   "execution_count": 104,
   "metadata": {
    "collapsed": false
   },
   "outputs": [],
   "source": [
    "def get_model():\n",
    "    bn_model = 0.99\n",
    "    p_activation = \"elu\"\n",
    "    k_size = (5,5)\n",
    "    input_1 = Input(shape=(75, 75, 3), name=\"X_1\")\n",
    "    input_2 = Input(shape=[1], name=\"angle\")\n",
    "    \n",
    "    img_1 = Conv2D(32, kernel_size = k_size, activation=p_activation, padding=\"same\") ((BatchNormalization(momentum=bn_model))(input_1))\n",
    "    img_1 = Conv2D(32, kernel_size = k_size, activation=p_activation, padding=\"same\") (img_1)\n",
    "    img_1 = MaxPooling2D((2,2)) (img_1)\n",
    "    img_1 = Dropout(0.25)(img_1)\n",
    "\n",
    "    img_1 = Conv2D(64, kernel_size = k_size, activation=p_activation, padding=\"same\")((BatchNormalization(momentum=bn_model))(img_1))\n",
    "    img_1 = Conv2D(64, kernel_size = k_size, activation=p_activation, padding=\"same\")(img_1)\n",
    "    img_1 = MaxPooling2D(pool_size=(2, 2))(img_1)\n",
    "    img_1 = Dropout(0.25)(img_1)    \n",
    "    \n",
    "    print(\"img1 shape\", img_1.shape)\n",
    "\n",
    "    img_resid = Conv2D(128, kernel_size = k_size, activation=p_activation, padding=\"same\")((BatchNormalization(momentum=bn_model))(img_1))\n",
    "    img_resid = Conv2D(128, kernel_size = k_size, activation=p_activation, padding=\"same\")(img_resid)\n",
    "    img_resid = Dropout(0.25)(img_resid)    \n",
    "    print(\"img_resid shape1\", img_resid.shape)\n",
    "    \n",
    "    img_resid = Conv2D(64, kernel_size = k_size, activation=p_activation, padding=\"same\")((BatchNormalization(momentum=bn_model))(img_resid))\n",
    "    img_resid = Conv2D(64, kernel_size = k_size, activation=p_activation, padding=\"same\")(img_resid)\n",
    "    print(\"img_resid shape2\", img_resid.shape)\n",
    "\n",
    "    cnn_resid_added = Add()([img_1, img_resid])\n",
    "    print(\"cnn_resid shape\", cnn_resid_added.shape)\n",
    "    \n",
    "    top_cnn = Conv2D(128, kernel_size = k_size, activation=p_activation, padding=\"same\")((BatchNormalization(momentum=bn_model))(cnn_resid_added))\n",
    "    top_cnn = Conv2D(128, kernel_size = k_size, activation=p_activation, padding=\"same\")(top_cnn)\n",
    "    top_cnn = MaxPooling2D((2,2)) (top_cnn)\n",
    "    top_cnn = Conv2D(256, kernel_size = k_size, activation=p_activation, padding=\"same\")((BatchNormalization(momentum=bn_model))(top_cnn))\n",
    "    top_cnn = Conv2D(256, kernel_size = k_size, activation=p_activation, padding=\"same\")(top_cnn)\n",
    "    top_cnn = Dropout(0.25)(top_cnn)\n",
    "    top_cnn = MaxPooling2D((2,2)) (top_cnn)\n",
    "    top_cnn = Conv2D(512, kernel_size = k_size, activation=p_activation, padding=\"same\")((BatchNormalization(momentum=bn_model))(top_cnn))\n",
    "    top_cnn = Conv2D(512, kernel_size = k_size, activation=p_activation, padding=\"same\")(top_cnn)\n",
    "    top_cnn = Dropout(0.25)(top_cnn)\n",
    "    top_cnn = MaxPooling2D((2,2)) (top_cnn)\n",
    "    \n",
    "    top_cnn = GlobalMaxPooling2D()(top_cnn)\n",
    "    print(\"top_cnn shape\", top_cnn.shape)\n",
    "\n",
    "    dense_ayer = ELU()(BatchNormalization(momentum=bn_model)( Dense(512, activation=None)(top_cnn) ))\n",
    "    dense_ayer = Dropout(0.5)(dense_ayer)\n",
    "    dense_ayer = ELU()(BatchNormalization(momentum=bn_model)( Dense(256, activation=None)(dense_ayer) ))\n",
    "    dense_ayer = Dropout(0.5)(dense_ayer)\n",
    "    \n",
    "    output = Dense(1, activation=\"softmax\")(dense_ayer)\n",
    "    \n",
    "    \n",
    "    \n",
    "    model = Model([input_1],  output)\n",
    "    optimizer = Adam(lr=0.001, beta_1=0.9, beta_2=0.999, epsilon=1e-08, decay=0.0)\n",
    "    model.compile(loss=\"binary_crossentropy\", optimizer=optimizer, metrics=[\"accuracy\"])\n",
    "    return model\n"
   ]
  },
  {
   "cell_type": "code",
   "execution_count": 105,
   "metadata": {
    "collapsed": false
   },
   "outputs": [
    {
     "name": "stdout",
     "output_type": "stream",
     "text": [
      "('img1 shape', TensorShape([Dimension(None), Dimension(18), Dimension(18), Dimension(64)]))\n",
      "('img_resid shape1', TensorShape([Dimension(None), Dimension(18), Dimension(18), Dimension(128)]))\n",
      "('img_resid shape2', TensorShape([Dimension(None), Dimension(18), Dimension(18), Dimension(64)]))\n",
      "('cnn_resid shape', TensorShape([Dimension(None), Dimension(18), Dimension(18), Dimension(64)]))\n",
      "('top_cnn shape', TensorShape([Dimension(None), Dimension(512)]))\n",
      "____________________________________________________________________________________________________\n",
      "Layer (type)                     Output Shape          Param #     Connected to                     \n",
      "====================================================================================================\n",
      "X_1 (InputLayer)                 (None, 75, 75, 3)     0                                            \n",
      "____________________________________________________________________________________________________\n",
      "batch_normalization_142 (BatchNo (None, 75, 75, 3)     12          X_1[0][0]                        \n",
      "____________________________________________________________________________________________________\n",
      "conv2d_242 (Conv2D)              (None, 75, 75, 32)    2432        batch_normalization_142[0][0]    \n",
      "____________________________________________________________________________________________________\n",
      "conv2d_243 (Conv2D)              (None, 75, 75, 32)    25632       conv2d_242[0][0]                 \n",
      "____________________________________________________________________________________________________\n",
      "max_pooling2d_78 (MaxPooling2D)  (None, 37, 37, 32)    0           conv2d_243[0][0]                 \n",
      "____________________________________________________________________________________________________\n",
      "dropout_107 (Dropout)            (None, 37, 37, 32)    0           max_pooling2d_78[0][0]           \n",
      "____________________________________________________________________________________________________\n",
      "batch_normalization_143 (BatchNo (None, 37, 37, 32)    128         dropout_107[0][0]                \n",
      "____________________________________________________________________________________________________\n",
      "conv2d_244 (Conv2D)              (None, 37, 37, 64)    51264       batch_normalization_143[0][0]    \n",
      "____________________________________________________________________________________________________\n",
      "conv2d_245 (Conv2D)              (None, 37, 37, 64)    102464      conv2d_244[0][0]                 \n",
      "____________________________________________________________________________________________________\n",
      "max_pooling2d_79 (MaxPooling2D)  (None, 18, 18, 64)    0           conv2d_245[0][0]                 \n",
      "____________________________________________________________________________________________________\n",
      "dropout_108 (Dropout)            (None, 18, 18, 64)    0           max_pooling2d_79[0][0]           \n",
      "____________________________________________________________________________________________________\n",
      "batch_normalization_144 (BatchNo (None, 18, 18, 64)    256         dropout_108[0][0]                \n",
      "____________________________________________________________________________________________________\n",
      "conv2d_246 (Conv2D)              (None, 18, 18, 128)   204928      batch_normalization_144[0][0]    \n",
      "____________________________________________________________________________________________________\n",
      "conv2d_247 (Conv2D)              (None, 18, 18, 128)   409728      conv2d_246[0][0]                 \n",
      "____________________________________________________________________________________________________\n",
      "dropout_109 (Dropout)            (None, 18, 18, 128)   0           conv2d_247[0][0]                 \n",
      "____________________________________________________________________________________________________\n",
      "batch_normalization_145 (BatchNo (None, 18, 18, 128)   512         dropout_109[0][0]                \n",
      "____________________________________________________________________________________________________\n",
      "conv2d_248 (Conv2D)              (None, 18, 18, 64)    204864      batch_normalization_145[0][0]    \n",
      "____________________________________________________________________________________________________\n",
      "conv2d_249 (Conv2D)              (None, 18, 18, 64)    102464      conv2d_248[0][0]                 \n",
      "____________________________________________________________________________________________________\n",
      "add_19 (Add)                     (None, 18, 18, 64)    0           dropout_108[0][0]                \n",
      "                                                                   conv2d_249[0][0]                 \n",
      "____________________________________________________________________________________________________\n",
      "batch_normalization_146 (BatchNo (None, 18, 18, 64)    256         add_19[0][0]                     \n",
      "____________________________________________________________________________________________________\n",
      "conv2d_250 (Conv2D)              (None, 18, 18, 128)   204928      batch_normalization_146[0][0]    \n",
      "____________________________________________________________________________________________________\n",
      "conv2d_251 (Conv2D)              (None, 18, 18, 128)   409728      conv2d_250[0][0]                 \n",
      "____________________________________________________________________________________________________\n",
      "max_pooling2d_80 (MaxPooling2D)  (None, 9, 9, 128)     0           conv2d_251[0][0]                 \n",
      "____________________________________________________________________________________________________\n",
      "batch_normalization_147 (BatchNo (None, 9, 9, 128)     512         max_pooling2d_80[0][0]           \n",
      "____________________________________________________________________________________________________\n",
      "conv2d_252 (Conv2D)              (None, 9, 9, 256)     819456      batch_normalization_147[0][0]    \n",
      "____________________________________________________________________________________________________\n",
      "conv2d_253 (Conv2D)              (None, 9, 9, 256)     1638656     conv2d_252[0][0]                 \n",
      "____________________________________________________________________________________________________\n",
      "dropout_110 (Dropout)            (None, 9, 9, 256)     0           conv2d_253[0][0]                 \n",
      "____________________________________________________________________________________________________\n",
      "max_pooling2d_81 (MaxPooling2D)  (None, 4, 4, 256)     0           dropout_110[0][0]                \n",
      "____________________________________________________________________________________________________\n",
      "batch_normalization_148 (BatchNo (None, 4, 4, 256)     1024        max_pooling2d_81[0][0]           \n",
      "____________________________________________________________________________________________________\n",
      "conv2d_254 (Conv2D)              (None, 4, 4, 512)     3277312     batch_normalization_148[0][0]    \n",
      "____________________________________________________________________________________________________\n",
      "conv2d_255 (Conv2D)              (None, 4, 4, 512)     6554112     conv2d_254[0][0]                 \n",
      "____________________________________________________________________________________________________\n",
      "dropout_111 (Dropout)            (None, 4, 4, 512)     0           conv2d_255[0][0]                 \n",
      "____________________________________________________________________________________________________\n",
      "max_pooling2d_82 (MaxPooling2D)  (None, 2, 2, 512)     0           dropout_111[0][0]                \n",
      "____________________________________________________________________________________________________\n",
      "global_max_pooling2d_12 (GlobalM (None, 512)           0           max_pooling2d_82[0][0]           \n",
      "____________________________________________________________________________________________________\n",
      "dense_34 (Dense)                 (None, 512)           262656      global_max_pooling2d_12[0][0]    \n",
      "____________________________________________________________________________________________________\n",
      "batch_normalization_149 (BatchNo (None, 512)           2048        dense_34[0][0]                   \n",
      "____________________________________________________________________________________________________\n",
      "elu_11 (ELU)                     (None, 512)           0           batch_normalization_149[0][0]    \n",
      "____________________________________________________________________________________________________\n",
      "dropout_112 (Dropout)            (None, 512)           0           elu_11[0][0]                     \n",
      "____________________________________________________________________________________________________\n",
      "dense_35 (Dense)                 (None, 256)           131328      dropout_112[0][0]                \n",
      "____________________________________________________________________________________________________\n",
      "batch_normalization_150 (BatchNo (None, 256)           1024        dense_35[0][0]                   \n",
      "____________________________________________________________________________________________________\n",
      "elu_12 (ELU)                     (None, 256)           0           batch_normalization_150[0][0]    \n",
      "____________________________________________________________________________________________________\n",
      "dropout_113 (Dropout)            (None, 256)           0           elu_12[0][0]                     \n",
      "____________________________________________________________________________________________________\n",
      "dense_36 (Dense)                 (None, 1)             257         dropout_113[0][0]                \n",
      "====================================================================================================\n",
      "Total params: 14,407,981\n",
      "Trainable params: 14,405,095\n",
      "Non-trainable params: 2,886\n",
      "____________________________________________________________________________________________________\n"
     ]
    }
   ],
   "source": [
    "model = get_model()\n",
    "model.summary()"
   ]
  },
  {
   "cell_type": "markdown",
   "metadata": {},
   "source": [
    "# training parameters #"
   ]
  },
  {
   "cell_type": "code",
   "execution_count": 92,
   "metadata": {
    "collapsed": true
   },
   "outputs": [],
   "source": [
    "batch_size = 64\n",
    "epochs = 5 ## change this to 80\n",
    "steps_per_epoch=2^9/batch_size ## change to 2^14"
   ]
  },
  {
   "cell_type": "code",
   "execution_count": 93,
   "metadata": {
    "collapsed": true
   },
   "outputs": [],
   "source": [
    "def get_callbacks(filepath, patience=10):\n",
    "    es = EarlyStopping('val_loss', patience=patience, mode=\"min\")\n",
    "    msave = ModelCheckpoint(filepath, save_best_only=True)\n",
    "    return [es, msave]"
   ]
  },
  {
   "cell_type": "code",
   "execution_count": 106,
   "metadata": {
    "collapsed": false
   },
   "outputs": [
    {
     "name": "stdout",
     "output_type": "stream",
     "text": [
      "Epoch 1/5\n",
      "2/2 [==============================] - 90s - loss: 8.9676 - acc: 0.4375 - val_loss: 8.4525 - val_acc: 0.4698\n",
      "Epoch 2/5\n",
      "2/2 [==============================] - 71s - loss: 8.4694 - acc: 0.4688 - val_loss: 8.4525 - val_acc: 0.4698\n",
      "Epoch 3/5\n",
      "2/2 [==============================] - 69s - loss: 8.8430 - acc: 0.4453 - val_loss: 8.4525 - val_acc: 0.4698\n",
      "Epoch 4/5\n",
      "2/2 [==============================] - 68s - loss: 8.8430 - acc: 0.4453 - val_loss: 8.4525 - val_acc: 0.4698\n",
      "Epoch 5/5\n",
      "2/2 [==============================] - 69s - loss: 7.8466 - acc: 0.5078 - val_loss: 8.4525 - val_acc: 0.4698\n"
     ]
    },
    {
     "data": {
      "text/plain": [
       "<keras.callbacks.History at 0x14336f6d0>"
      ]
     },
     "execution_count": 106,
     "metadata": {},
     "output_type": "execute_result"
    }
   ],
   "source": [
    "gen_images = ImageDataGenerator(\n",
    "        rotation_range=20,\n",
    "        width_shift_range=0.3,\n",
    "        height_shift_range=0.3,\n",
    "        #rescale=1./255,\n",
    "        shear_range=0.2,\n",
    "        zoom_range=0.1,\n",
    "        horizontal_flip=True,\n",
    "        vertical_flip=True,)\n",
    "        #fill_mode='nearest')\n",
    "\n",
    "model.fit_generator(\n",
    "    \n",
    "        gen_images.flow(X_train,y_train,batch_size=batch_size),\n",
    "        steps_per_epoch=steps_per_epoch,\n",
    "        epochs=epochs,\n",
    "        validation_data=(X_valid,y_valid),\n",
    "        validation_steps=steps_per_epoch)"
   ]
  },
  {
   "cell_type": "code",
   "execution_count": null,
   "metadata": {
    "collapsed": true
   },
   "outputs": [],
   "source": []
  },
  {
   "cell_type": "code",
   "execution_count": null,
   "metadata": {
    "collapsed": true
   },
   "outputs": [],
   "source": [
    "gen_images <- image_data_generator(\n",
    "  # featurewise_center = TRUE,\n",
    "  # featurewise_std_normalization = TRUE,\n",
    "  horizontal_flip = TRUE,\n",
    "  vertical_flip = TRUE,\n",
    "  width_shift_range = 0.30,\n",
    "  height_shift_range = 0.30,\n",
    "  zoom_range = 0.1,\n",
    "  rotation_range = 20\n",
    "  )\n",
    "\n",
    "\n",
    "history = model %>% fit_generator(\n",
    "  flow_images_from_data(x = train[[1]], y = train[[3]],generator = gen_images,\n",
    "     batch_size=batch_size, seed = 123),\n",
    "     steps_per_epoch=steps_per_epoch,epochs = epochs,\n",
    "  view_metrics = T,\n",
    "  validation_data = list(val[[1]],val[[3]]),\n",
    "  callbacks = c(check_point,early_stopping)\n",
    ")"
   ]
  },
  {
   "cell_type": "code",
   "execution_count": null,
   "metadata": {
    "collapsed": true
   },
   "outputs": [],
   "source": [
    "\n",
    "\n",
    "input_CNN = input_img_norm %>%\n",
    "    layer_conv_2d(32, kernel_size = kernel_size,padding = \"same\") %>%\n",
    "    layer_batch_normalization(momentum = 0.99) %>%\n",
    "    layer_activation_elu() %>%\n",
    "    layer_max_pooling_2d(c(2,2)) %>%\n",
    "    layer_dropout(0.25) %>%\n",
    "    layer_conv_2d(64, kernel_size = kernel_size,padding = \"same\") %>%\n",
    "    layer_batch_normalization(momentum = 0.99) %>%\n",
    "    layer_activation_elu() %>%\n",
    "    layer_max_pooling_2d(c(2,2)) %>%\n",
    "    layer_dropout(0.25) \n",
    "\n",
    "## first residual\n",
    "input_CNN_residual = input_CNN %>%\n",
    "  layer_batch_normalization(momentum = 0.99) %>%\n",
    "  layer_conv_2d(128, kernel_size = kernel_size,padding = \"same\") %>%\n",
    "  layer_batch_normalization(momentum = 0.99) %>%\n",
    "  layer_activation_elu() %>%\n",
    "  layer_dropout(0.25) %>%\n",
    "  layer_conv_2d(64, kernel_size = kernel_size,padding = \"same\") %>%\n",
    "  layer_batch_normalization(momentum = 0.99) %>%\n",
    "  layer_activation_elu()\n",
    "\n",
    "input_CNN_residual = layer_add(list(input_CNN_residual,input_CNN))\n",
    "\n",
    "top_CNN = input_CNN_residual %>%\n",
    "  layer_conv_2d(128, kernel_size = kernel_size,padding = \"same\") %>%\n",
    "  layer_batch_normalization(momentum = 0.99) %>%\n",
    "  layer_activation_elu() %>%\n",
    "  layer_max_pooling_2d(c(2,2)) %>%\n",
    "  layer_conv_2d(256, kernel_size = kernel_size,padding = \"same\") %>%\n",
    "  layer_batch_normalization(momentum = 0.99) %>%\n",
    "  layer_activation_elu() %>%\n",
    "  layer_dropout(0.25) %>%\n",
    "  layer_max_pooling_2d(c(2,2)) %>%\n",
    "  layer_conv_2d(512, kernel_size = kernel_size,padding = \"same\") %>%\n",
    "  layer_batch_normalization(momentum = 0.99) %>%\n",
    "  layer_activation_elu() %>%\n",
    "  layer_dropout(0.25) %>%\n",
    "  layer_max_pooling_2d(c(2,2)) %>%\n",
    "  layer_global_max_pooling_2d()\n",
    "\n",
    "outputs = top_CNN %>%\n",
    "    layer_dense(512,activation = NULL) %>%\n",
    "    layer_batch_normalization(momentum = 0.99) %>%\n",
    "    layer_activation_elu() %>%\n",
    "    layer_dropout(0.5) %>%\n",
    "    layer_dense(256,activation = NULL) %>%\n",
    "    layer_batch_normalization(momentum = 0.99) %>%\n",
    "    layer_activation_elu() %>%\n",
    "    layer_dropout(0.5) %>%\n",
    "    layer_dense(2,activation = \"softmax\") ## not sure using softmax is the right thing to do...\n",
    "    \n",
    "model <- keras_model(inputs = list(input_img), outputs = list(outputs))\n",
    "\n",
    "model %>% compile(optimizer=optimizer_adam(lr = 0.001),\n",
    "                  loss=\"binary_crossentropy\",\n",
    "                  metrics = c(\"accuracy\"))\n",
    "\n",
    "summary(model)"
   ]
  }
 ],
 "metadata": {
  "kernelspec": {
   "display_name": "Python (tensorflow)",
   "language": "python",
   "name": "tensorflow"
  },
  "language_info": {
   "codemirror_mode": {
    "name": "ipython",
    "version": 2
   },
   "file_extension": ".py",
   "mimetype": "text/x-python",
   "name": "python",
   "nbconvert_exporter": "python",
   "pygments_lexer": "ipython2",
   "version": "2.7.13"
  }
 },
 "nbformat": 4,
 "nbformat_minor": 2
}
